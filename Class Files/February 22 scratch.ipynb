{
 "cells": [
  {
   "cell_type": "markdown",
   "source": [
    "```tex \n",
    " \\sigma_{i=1}^n\n",
    "```"
   ],
   "metadata": {
    "collapsed": false
   },
   "id": "39d0fb4f4464538b"
  },
  {
   "cell_type": "code",
   "outputs": [],
   "source": [],
   "metadata": {
    "collapsed": false,
    "ExecuteTime": {
     "end_time": "2024-02-22T22:19:21.085664Z",
     "start_time": "2024-02-22T22:19:21.083245Z"
    }
   },
   "id": "6e67f9661ecb3c3",
   "execution_count": 0
  }
 ],
 "metadata": {
  "kernelspec": {
   "display_name": "Python 3",
   "language": "python",
   "name": "python3"
  },
  "language_info": {
   "codemirror_mode": {
    "name": "ipython",
    "version": 2
   },
   "file_extension": ".py",
   "mimetype": "text/x-python",
   "name": "python",
   "nbconvert_exporter": "python",
   "pygments_lexer": "ipython2",
   "version": "2.7.6"
  }
 },
 "nbformat": 4,
 "nbformat_minor": 5
}
