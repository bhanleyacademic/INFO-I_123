{
 "cells": [
  {
   "cell_type": "code",
   "execution_count": 22,
   "metadata": {
    "id": "WVO5e_PsJgq5",
    "ExecuteTime": {
     "end_time": "2024-03-21T20:53:10.246755Z",
     "start_time": "2024-03-21T20:53:10.240869Z"
    }
   },
   "outputs": [],
   "source": [
    "# Import necessary libraries\n",
    "# this always needs to be done whenever you want to use functionality\n",
    "# from these libraries\n",
    "import pandas as pd\n",
    "import matplotlib.pyplot as plt\n",
    "import seaborn as sns"
   ]
  },
  {
   "cell_type": "code",
   "execution_count": 23,
   "metadata": {
    "id": "WyI09AuYJgq7",
    "outputId": "45c19970-19c1-4e80-f3fb-014afe45712e",
    "ExecuteTime": {
     "end_time": "2024-03-21T20:53:10.311448Z",
     "start_time": "2024-03-21T20:53:10.298675Z"
    }
   },
   "outputs": [
    {
     "name": "stdout",
     "output_type": "stream",
     "text": [
      "Distribution of species:\n",
      "species\n",
      "setosa        0.333333\n",
      "versicolor    0.333333\n",
      "virginica     0.333333\n",
      "Name: proportion, dtype: float64\n"
     ]
    }
   ],
   "source": [
    "# Follow this example, you'll need the examples later!\n",
    "\n",
    "# Load example data\n",
    "data = sns.load_dataset('iris')\n",
    "\n",
    "\n",
    "def categorical_distribution(data, column):\n",
    "    # Calculate distribution using value_counts\n",
    "    distribution = data[column].value_counts(normalize=True)\n",
    "\n",
    "    # Display the distribution\n",
    "    print(f\"Distribution of {column}:\\n{distribution}\")\n",
    "\n",
    "# Example usage\n",
    "categorical_distribution(data, 'species')  # Replace 'species' with your\n",
    "                                           # variable\n",
    "\n",
    "\n"
   ]
  },
  {
   "cell_type": "markdown",
   "metadata": {
    "id": "hhjkqmzUJgq7"
   },
   "source": [
    "### What other example datasets are available?"
   ]
  },
  {
   "cell_type": "code",
   "execution_count": 24,
   "metadata": {
    "id": "AZzBABLSJgq8",
    "outputId": "210e6e92-ddfa-43d9-86ce-002aee8109b4",
    "ExecuteTime": {
     "end_time": "2024-03-21T20:53:10.464694Z",
     "start_time": "2024-03-21T20:53:10.313886Z"
    }
   },
   "outputs": [
    {
     "data": {
      "text/plain": "['anagrams',\n 'anscombe',\n 'attention',\n 'brain_networks',\n 'car_crashes',\n 'diamonds',\n 'dots',\n 'dowjones',\n 'exercise',\n 'flights',\n 'fmri',\n 'geyser',\n 'glue',\n 'healthexp',\n 'iris',\n 'mpg',\n 'penguins',\n 'planets',\n 'seaice',\n 'taxis',\n 'tips',\n 'titanic']"
     },
     "execution_count": 24,
     "metadata": {},
     "output_type": "execute_result"
    }
   ],
   "source": [
    "sns.get_dataset_names()"
   ]
  },
  {
   "cell_type": "markdown",
   "metadata": {
    "id": "X-cIrRagJgq9"
   },
   "source": [
    "### Alright, try choosing a dataset, and make sure to look up what that dataset is about. You can use the `describe()` function to get a quick overview of the dataset."
   ]
  },
  {
   "cell_type": "code",
   "execution_count": 25,
   "metadata": {
    "id": "NEvlHaWTJgq9",
    "outputId": "0040a8c0-8cec-4e65-c4bf-e5d0f59be165",
    "ExecuteTime": {
     "end_time": "2024-03-21T20:53:10.484457Z",
     "start_time": "2024-03-21T20:53:10.465463Z"
    }
   },
   "outputs": [
    {
     "data": {
      "text/plain": "         survived      pclass         age       sibsp       parch        fare\ncount  891.000000  891.000000  714.000000  891.000000  891.000000  891.000000\nmean     0.383838    2.308642   29.699118    0.523008    0.381594   32.204208\nstd      0.486592    0.836071   14.526497    1.102743    0.806057   49.693429\nmin      0.000000    1.000000    0.420000    0.000000    0.000000    0.000000\n25%      0.000000    2.000000   20.125000    0.000000    0.000000    7.910400\n50%      0.000000    3.000000   28.000000    0.000000    0.000000   14.454200\n75%      1.000000    3.000000   38.000000    1.000000    0.000000   31.000000\nmax      1.000000    3.000000   80.000000    8.000000    6.000000  512.329200",
      "text/html": "<div>\n<style scoped>\n    .dataframe tbody tr th:only-of-type {\n        vertical-align: middle;\n    }\n\n    .dataframe tbody tr th {\n        vertical-align: top;\n    }\n\n    .dataframe thead th {\n        text-align: right;\n    }\n</style>\n<table border=\"1\" class=\"dataframe\">\n  <thead>\n    <tr style=\"text-align: right;\">\n      <th></th>\n      <th>survived</th>\n      <th>pclass</th>\n      <th>age</th>\n      <th>sibsp</th>\n      <th>parch</th>\n      <th>fare</th>\n    </tr>\n  </thead>\n  <tbody>\n    <tr>\n      <th>count</th>\n      <td>891.000000</td>\n      <td>891.000000</td>\n      <td>714.000000</td>\n      <td>891.000000</td>\n      <td>891.000000</td>\n      <td>891.000000</td>\n    </tr>\n    <tr>\n      <th>mean</th>\n      <td>0.383838</td>\n      <td>2.308642</td>\n      <td>29.699118</td>\n      <td>0.523008</td>\n      <td>0.381594</td>\n      <td>32.204208</td>\n    </tr>\n    <tr>\n      <th>std</th>\n      <td>0.486592</td>\n      <td>0.836071</td>\n      <td>14.526497</td>\n      <td>1.102743</td>\n      <td>0.806057</td>\n      <td>49.693429</td>\n    </tr>\n    <tr>\n      <th>min</th>\n      <td>0.000000</td>\n      <td>1.000000</td>\n      <td>0.420000</td>\n      <td>0.000000</td>\n      <td>0.000000</td>\n      <td>0.000000</td>\n    </tr>\n    <tr>\n      <th>25%</th>\n      <td>0.000000</td>\n      <td>2.000000</td>\n      <td>20.125000</td>\n      <td>0.000000</td>\n      <td>0.000000</td>\n      <td>7.910400</td>\n    </tr>\n    <tr>\n      <th>50%</th>\n      <td>0.000000</td>\n      <td>3.000000</td>\n      <td>28.000000</td>\n      <td>0.000000</td>\n      <td>0.000000</td>\n      <td>14.454200</td>\n    </tr>\n    <tr>\n      <th>75%</th>\n      <td>1.000000</td>\n      <td>3.000000</td>\n      <td>38.000000</td>\n      <td>1.000000</td>\n      <td>0.000000</td>\n      <td>31.000000</td>\n    </tr>\n    <tr>\n      <th>max</th>\n      <td>1.000000</td>\n      <td>3.000000</td>\n      <td>80.000000</td>\n      <td>8.000000</td>\n      <td>6.000000</td>\n      <td>512.329200</td>\n    </tr>\n  </tbody>\n</table>\n</div>"
     },
     "execution_count": 25,
     "metadata": {},
     "output_type": "execute_result"
    }
   ],
   "source": [
    "# for example, with the titanic dataset\n",
    "# You don't need to use titanic, you can use any of the datasets\n",
    "titanic = sns.load_dataset('titanic')\n",
    "titanic.describe()"
   ]
  },
  {
   "cell_type": "markdown",
   "metadata": {
    "id": "YlVUPKrMJgq9"
   },
   "source": [
    "### Let's see what variables we have in the dataset. This can be done using the `columns` attribute.\n",
    "\n",
    "You'll need to choose one of these variables to view the distribution of."
   ]
  },
  {
   "cell_type": "code",
   "execution_count": 26,
   "metadata": {
    "id": "irNclynZJgq9",
    "outputId": "3d363ebf-077b-4d98-b9d2-8b1025aabaef",
    "ExecuteTime": {
     "end_time": "2024-03-21T20:53:10.491245Z",
     "start_time": "2024-03-21T20:53:10.487076Z"
    }
   },
   "outputs": [
    {
     "data": {
      "text/plain": "Index(['survived', 'pclass', 'sex', 'age', 'sibsp', 'parch', 'fare',\n       'embarked', 'class', 'who', 'adult_male', 'deck', 'embark_town',\n       'alive', 'alone'],\n      dtype='object')"
     },
     "execution_count": 26,
     "metadata": {},
     "output_type": "execute_result"
    }
   ],
   "source": [
    "# show variable names\n",
    "titanic.columns"
   ]
  },
  {
   "cell_type": "code",
   "outputs": [
    {
     "data": {
      "text/plain": "       bill_length_mm  bill_depth_mm  flipper_length_mm  body_mass_g\ncount      342.000000     342.000000         342.000000   342.000000\nmean        43.921930      17.151170         200.915205  4201.754386\nstd          5.459584       1.974793          14.061714   801.954536\nmin         32.100000      13.100000         172.000000  2700.000000\n25%         39.225000      15.600000         190.000000  3550.000000\n50%         44.450000      17.300000         197.000000  4050.000000\n75%         48.500000      18.700000         213.000000  4750.000000\nmax         59.600000      21.500000         231.000000  6300.000000",
      "text/html": "<div>\n<style scoped>\n    .dataframe tbody tr th:only-of-type {\n        vertical-align: middle;\n    }\n\n    .dataframe tbody tr th {\n        vertical-align: top;\n    }\n\n    .dataframe thead th {\n        text-align: right;\n    }\n</style>\n<table border=\"1\" class=\"dataframe\">\n  <thead>\n    <tr style=\"text-align: right;\">\n      <th></th>\n      <th>bill_length_mm</th>\n      <th>bill_depth_mm</th>\n      <th>flipper_length_mm</th>\n      <th>body_mass_g</th>\n    </tr>\n  </thead>\n  <tbody>\n    <tr>\n      <th>count</th>\n      <td>342.000000</td>\n      <td>342.000000</td>\n      <td>342.000000</td>\n      <td>342.000000</td>\n    </tr>\n    <tr>\n      <th>mean</th>\n      <td>43.921930</td>\n      <td>17.151170</td>\n      <td>200.915205</td>\n      <td>4201.754386</td>\n    </tr>\n    <tr>\n      <th>std</th>\n      <td>5.459584</td>\n      <td>1.974793</td>\n      <td>14.061714</td>\n      <td>801.954536</td>\n    </tr>\n    <tr>\n      <th>min</th>\n      <td>32.100000</td>\n      <td>13.100000</td>\n      <td>172.000000</td>\n      <td>2700.000000</td>\n    </tr>\n    <tr>\n      <th>25%</th>\n      <td>39.225000</td>\n      <td>15.600000</td>\n      <td>190.000000</td>\n      <td>3550.000000</td>\n    </tr>\n    <tr>\n      <th>50%</th>\n      <td>44.450000</td>\n      <td>17.300000</td>\n      <td>197.000000</td>\n      <td>4050.000000</td>\n    </tr>\n    <tr>\n      <th>75%</th>\n      <td>48.500000</td>\n      <td>18.700000</td>\n      <td>213.000000</td>\n      <td>4750.000000</td>\n    </tr>\n    <tr>\n      <th>max</th>\n      <td>59.600000</td>\n      <td>21.500000</td>\n      <td>231.000000</td>\n      <td>6300.000000</td>\n    </tr>\n  </tbody>\n</table>\n</div>"
     },
     "execution_count": 47,
     "metadata": {},
     "output_type": "execute_result"
    }
   ],
   "source": [
    "penguins = sns.load_dataset('penguins')\n",
    "penguins.describe()"
   ],
   "metadata": {
    "collapsed": false,
    "ExecuteTime": {
     "end_time": "2024-03-21T21:47:47.333475Z",
     "start_time": "2024-03-21T21:47:47.190489Z"
    }
   },
   "execution_count": 47
  },
  {
   "cell_type": "code",
   "execution_count": 36,
   "metadata": {
    "id": "YlrWZUS1Jgq9",
    "outputId": "59d3336d-2c9a-4c26-a097-67775f2f952f",
    "ExecuteTime": {
     "end_time": "2024-03-21T20:55:13.662955Z",
     "start_time": "2024-03-21T20:55:13.642121Z"
    }
   },
   "outputs": [
    {
     "name": "stdout",
     "output_type": "stream",
     "text": [
      "Distribution of body_mass_g:\n",
      "body_mass_g\n",
      "3800.0    0.035088\n",
      "3700.0    0.032164\n",
      "3900.0    0.029240\n",
      "3950.0    0.029240\n",
      "3550.0    0.026316\n",
      "            ...   \n",
      "4475.0    0.002924\n",
      "3975.0    0.002924\n",
      "3575.0    0.002924\n",
      "3850.0    0.002924\n",
      "5750.0    0.002924\n",
      "Name: proportion, Length: 94, dtype: float64\n"
     ]
    }
   ],
   "source": [
    "# Load example data (replace this with your dataset)\n",
    "data = sns.load_dataset('penguins')\n",
    "\n",
    "# Exercise 1: Categorical Distribution\n",
    "# Task: Fill in the blanks to calculate and display the distribution\n",
    "# of a categorical variable.\n",
    "\n",
    "def categorical_distribution(data, column):\n",
    "    # Calculate distribution using value_counts\n",
    "    distribution = data[column].value_counts(normalize=True)\n",
    "\n",
    "    # Display the distribution\n",
    "    print(f\"Distribution of {column}:\\n{distribution}\")\n",
    "\n",
    "categorical_distribution(data, 'body_mass_g')  # Your variable\n"
   ]
  },
  {
   "cell_type": "markdown",
   "metadata": {
    "id": "N_PXUkdbJgq9"
   },
   "source": [
    "### Okay, now let's learn how we can use histplot() to plot a histogram and view the distribution of a variable.\n",
    "\n",
    "It's important to get familiar with the documentation of the function you're using. These become very helpful, especially when you're trying to customize your plots in the future.\n",
    "[sns.histplot() documentation](https://seaborn.pydata.org/generated/seaborn.histplot.html)"
   ]
  },
  {
   "cell_type": "code",
   "execution_count": 33,
   "metadata": {
    "id": "mrH4-N59Jgq-",
    "ExecuteTime": {
     "end_time": "2024-03-21T20:53:31.090214Z",
     "start_time": "2024-03-21T20:53:31.079068Z"
    }
   },
   "outputs": [],
   "source": [
    "data = sns.load_dataset('penguins')"
   ]
  },
  {
   "cell_type": "code",
   "execution_count": 40,
   "metadata": {
    "id": "agFapFAmJgq-",
    "outputId": "d6584b60-73ac-49fc-885e-7410c740a070",
    "ExecuteTime": {
     "end_time": "2024-03-21T20:57:21.560178Z",
     "start_time": "2024-03-21T20:57:21.357204Z"
    }
   },
   "outputs": [
    {
     "data": {
      "text/plain": "<Figure size 1000x600 with 1 Axes>",
      "image/png": "[encoded data removed]"
     },
     "metadata": {},
     "output_type": "display_data"
    }
   ],
   "source": [
    "# Exercise 2: Construct and Interpret Histogram\n",
    "# Task: Fill in the blanks to create a histogram and interpret the results.\n",
    "\n",
    "def plot_histogram(data, column):\n",
    "    # Plot histogram using seaborn\n",
    "    plt.figure(figsize=(10, 6))\n",
    "\n",
    "\n",
    "    # Make sure to pass only the column you want plotted, not the entire\n",
    "    # dataset Try playing around with the 'bins' parameter to see how it\n",
    "    # affects the plot, make it large and small\n",
    "    # set kde to True to show the density plot\n",
    "    # then set kde to False to show only the histogram\n",
    "    sns.histplot(data[\"body_mass_g\"], bins=10, kde=True)\n",
    "\n",
    "    # Add title and labels\n",
    "    plt.title(f'Histogram of {column}')\n",
    "\n",
    "    # Plot the x and y axes labels\n",
    "    plt.xlabel(column)\n",
    "    plt.ylabel('Frequency')\n",
    "\n",
    "    # Show the plot\n",
    "    plt.show()\n",
    "\n",
    "# Example usage\n",
    "plot_histogram(data, 'body_mass_g')  # Replace 'sepal_length' with your\n",
    "                                      # numerical variable\n",
    "\n"
   ]
  },
  {
   "cell_type": "markdown",
   "metadata": {
    "id": "_3YegNI5Jgq-"
   },
   "source": [
    "## Question 1:\n",
    "What can you say about the kde plot vs the histogram? What does the kde plot show that the histogram doesn't? Feel free to visit the documentation to find out more about the kde plot. If it's not clear, feel free to describe what you see.\n",
    "\n",
    "```\n",
    "The plot gives a bar graph with the frequency of the data that falls into the size of the\n",
    " bin. While the histogram gives a smooth line that follows the information in between the\n",
    " peaks and valleys. The kde plot shows the frequency of data in a certain range making it\n",
    " easier to see where more frequent data lies instead of raising or lowering data to show a\n",
    " smooth line.  \n",
    "```\n",
    "\n",
    "## Question 2\n",
    " What happens when you change the bin size? Do you notice anything strange if you set the bin size to 1? What about wen you set it to 100 or higher?\n",
    " \n",
    "```\n",
    "Setting the bin size lower reduces how the values are separated while setting it higher\n",
    " gives much smaller ranges allowing for getting more nuanced data.\n",
    "```"
   ]
  },
  {
   "cell_type": "markdown",
   "metadata": {
    "id": "gWuc__G_Jgq-"
   },
   "source": [
    "### You can use the [len()](https://docs.python.org/3/library/functions.html#len) function to get the length of various types of objects in Python."
   ]
  },
  {
   "cell_type": "code",
   "execution_count": 41,
   "metadata": {
    "id": "r3eVJIUjJgq-",
    "outputId": "d579823c-b2cd-4447-ae77-fd3cca5917b6",
    "ExecuteTime": {
     "end_time": "2024-03-21T21:06:03.884479Z",
     "start_time": "2024-03-21T21:06:03.865190Z"
    }
   },
   "outputs": [
    {
     "name": "stdout",
     "output_type": "stream",
     "text": [
      "5 items in x\n",
      "5 items in x\n"
     ]
    }
   ],
   "source": [
    "# Example for using len() to get the number of items in a list\n",
    "x = [1, 2, 3, 4, 5]\n",
    "# how many items are in x?\n",
    "print(f'{len(x)} items in x')\n",
    "\n",
    "# What if we change the values in x?\n",
    "x = [5, 6, 7, 8, 9]\n",
    "# how many items are in x now?\n",
    "print(f'{len(x)} items in x')\n",
    "\n",
    "# the same!"
   ]
  },
  {
   "cell_type": "code",
   "execution_count": 43,
   "metadata": {
    "id": "gXUuu5jqJgq_",
    "outputId": "6eb2fa20-30d7-45db-b930-4ff16e182ddc",
    "ExecuteTime": {
     "end_time": "2024-03-21T21:06:31.538862Z",
     "start_time": "2024-03-21T21:06:31.505878Z"
    }
   },
   "outputs": [
    {
     "name": "stdout",
     "output_type": "stream",
     "text": [
      "Sample Size: 344\n"
     ]
    }
   ],
   "source": [
    "# Exercise 3: Importance of Sample Size\n",
    "# Task: Fill in the blanks to display the sample size.\n",
    "\n",
    "def sample_size_importance(data):\n",
    "    # Calculate sample size\n",
    "    # Use len() to get the number of items in the dataset\n",
    "    # (This is the sample size)\n",
    "    sample_size = len(data)\n",
    "\n",
    "    # Display the sample size\n",
    "    print(f\"Sample Size: {sample_size}\")\n",
    "\n",
    "# Example usage\n",
    "sample_size_importance(data)\n",
    "\n"
   ]
  },
  {
   "cell_type": "markdown",
   "metadata": {
    "id": "HciPO1GaJgq_"
   },
   "source": [
    "### Now check out the functions [mean()](https://pandas.pydata.org/docs/reference/api/pandas.DataFrame.mean.html), [median()](https://pandas.pydata.org/docs/reference/api/pandas.DataFrame.median.html), and [mode()](https://pandas.pydata.org/docs/reference/api/pandas.DataFrame.mode.html) to get the mean, median, and mode of a variable.\n",
    "\n",
    "#### Pay attention to the `return` value of the mode() function. It's different from the mean() and median() functions. We don't need to cover this in detail, but mean() and median() in our case will return a scalar (meaning a single value/number), while mode() will return a dataframe, regardless of how many modes there are. In light of this, we will need to use the [iloc](https://pandas.pydata.org/docs/reference/api/pandas.DataFrame.iloc.html) function to get the first value in the following exercise."
   ]
  },
  {
   "cell_type": "code",
   "execution_count": 44,
   "metadata": {
    "id": "lIUYT0e6Jgq_",
    "ExecuteTime": {
     "end_time": "2024-03-21T21:12:02.279244Z",
     "start_time": "2024-03-21T21:12:02.237887Z"
    }
   },
   "outputs": [],
   "source": [
    "data = sns.load_dataset('titanic')"
   ]
  },
  {
   "cell_type": "code",
   "execution_count": 46,
   "metadata": {
    "id": "no7BVq8EJgq_",
    "outputId": "af38f11f-a45c-4767-eafb-ab6272e3c938",
    "ExecuteTime": {
     "end_time": "2024-03-21T21:12:34.484307Z",
     "start_time": "2024-03-21T21:12:34.460760Z"
    }
   },
   "outputs": [
    {
     "name": "stdout",
     "output_type": "stream",
     "text": [
      "<class 'numpy.float64'>\n",
      "Mean: 29.69911764705882\n",
      "Median: 28.0\n",
      "Mode: 24.0\n"
     ]
    }
   ],
   "source": [
    "# Exercise 4: Measures of Center\n",
    "# Task: Fill in the blanks to calculate and display the mean, median,\n",
    "# and mode of a numerical variable.\n",
    "\n",
    "def measures_of_center(data, column):\n",
    "    # Calculate mean, median, and mode\n",
    "    # store the results in the following variables\n",
    "    mean = data[column].mean()\n",
    "    median = data[column].median()\n",
    "    # make sure to use .iloc[0] to get the first value in the series!\n",
    "    mode = data[column].mode().iloc[0]\n",
    "    print(type(mode))\n",
    "\n",
    "    # Display the results\n",
    "    print(f\"Mean: {mean}\\nMedian: {median}\\nMode: {mode}\")\n",
    "\n",
    "# Example usage\n",
    "measures_of_center(data, 'age')"
   ]
  },
  {
   "cell_type": "markdown",
   "metadata": {
    "id": "sk7u6IHTJgq_"
   },
   "source": [
    "## Question 3:\n",
    "Could you explain what mean, median, and mode are?\n",
    "```\n",
    "Mean: The average of the data. All the values summed and then divided by length.\n",
    "Median: The middle of the data with an equal amount of data on each side.\n",
    "Mode: The most frequent value in the dataset.\n",
    "```"
   ]
  },
  {
   "cell_type": "markdown",
   "source": [
    "## Last we're going to show how to connect your Google Drive to load your own files.\n",
    "\n",
    "1. First we need to mount the drive. This can be done by selecting the file icon on the left and then selecting the \"Mount Drive\" icon.\n",
    "\n",
    "2. A cell with code will appear. You will need to run this to mount your drive (it will be the drive of the account you're currently logged in with). Make sure to check the first box when allowing permissions."
   ],
   "metadata": {
    "id": "HSR5NcJkdE3e"
   }
  },
  {
   "cell_type": "markdown",
   "source": [
    "3. Now let's load a file from your drive! In this case, I've already downloaded the data for this week's exploration and put it in my own drive."
   ],
   "metadata": {
    "id": "b1gY4gS2ehzT"
   }
  },
  {
   "cell_type": "code",
   "source": [
    "# Let's load \"temperatures.csv\"\n",
    "data = pd.read_csv(\"drive/MyDrive/Data/Data-Fluency/temperatures.csv\")"
   ],
   "metadata": {
    "id": "Cm5nC3_JeTjQ"
   },
   "execution_count": null,
   "outputs": []
  },
  {
   "cell_type": "code",
   "source": [
    "# Now let's print the columns just to make sure it was loaded!\n",
    "data.columns"
   ],
   "metadata": {
    "colab": {
     "base_uri": "https://localhost:8080/"
    },
    "id": "fiJDgmWsfKBu",
    "outputId": "edf12c9e-fffc-493f-d5ce-1ee216fa1b30"
   },
   "execution_count": null,
   "outputs": []
  },
  {
   "cell_type": "code",
   "source": [
    "# you can now unmount your gdrive if you'd like to.\n",
    "drive.flush_and_unmount()\n",
    "\n"
   ],
   "metadata": {
    "id": "ZAPIxPzVhAzT"
   },
   "execution_count": null,
   "outputs": []
  }
 ],
 "metadata": {
  "kernelspec": {
   "display_name": "mlcl",
   "language": "python",
   "name": "python3"
  },
  "language_info": {
   "codemirror_mode": {
    "name": "ipython",
    "version": 3
   },
   "file_extension": ".py",
   "mimetype": "text/x-python",
   "name": "python",
   "nbconvert_exporter": "python",
   "pygments_lexer": "ipython3",
   "version": "3.10.13"
  },
  "colab": {
   "provenance": []
  }
 },
 "nbformat": 4,
 "nbformat_minor": 0
}
